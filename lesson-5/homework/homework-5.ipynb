{
 "cells": [
  {
   "cell_type": "code",
   "execution_count": 4,
   "metadata": {},
   "outputs": [
    {
     "name": "stdout",
     "output_type": "stream",
     "text": [
      "Not Weird\n"
     ]
    }
   ],
   "source": [
    "#exercise_2\n",
    "n = int(input('Insert an integer number: '))\n",
    "if n % 2 != 0:\n",
    "    print('Weird')\n",
    "if n % 2 == 0 and n >= 2 and n < 5:\n",
    "    print('Not Weird')\n",
    "if n % 2 == 0 and n >= 6 and n <= 20:\n",
    "    print('Weird')\n",
    "if n % 2 == 0 and n > 20:\n",
    "    print('Not Weird')"
   ]
  },
  {
   "cell_type": "code",
   "execution_count": 5,
   "metadata": {},
   "outputs": [
    {
     "name": "stdout",
     "output_type": "stream",
     "text": [
      "Integer should be in range [1,100] inclusive!\n"
     ]
    }
   ],
   "source": [
    "#exercise_2.2\n",
    "n = int(input('Type an integer fulfilling condition 1 <= n <= 100: '))\n",
    "if n >= 1 and n <= 100:\n",
    "    if n % 2 != 0:\n",
    "       print('Weird')\n",
    "    else:\n",
    "       print('Not Weird')\n",
    "else:\n",
    "   print('Integer should be in range [1,100] inclusive!')"
   ]
  },
  {
   "cell_type": "code",
   "execution_count": 50,
   "metadata": {},
   "outputs": [
    {
     "name": "stdout",
     "output_type": "stream",
     "text": [
      "[2, 4, 6, 8, 10, 12, 14, 16, 18, 20]\n"
     ]
    }
   ],
   "source": [
    "#exercise_3\n",
    "#approach_1 \n",
    "a = 1\n",
    "b = 20\n",
    "list_of_evens = []\n",
    "if a%2 == 0:\n",
    "    list_of_evens = list(range(a,b+1,2))\n",
    "else:\n",
    "    list_of_evens = list(range(a+1,b+1,2))\n",
    "print(list_of_evens)"
   ]
  },
  {
   "cell_type": "code",
   "execution_count": 30,
   "metadata": {},
   "outputs": [
    {
     "name": "stdout",
     "output_type": "stream",
     "text": [
      "[0, 2, 4, 6, 8, 10, 12, 14, 16, 18, 20, 22]\n"
     ]
    }
   ],
   "source": [
    "#exercise_3\n",
    "#approach_2\n",
    "a = 0\n",
    "b = 22\n",
    "even_list = list(range(a + (a%2),b + 1,2))\n",
    "print(even_list)"
   ]
  }
 ],
 "metadata": {
  "kernelspec": {
   "display_name": "Python 3",
   "language": "python",
   "name": "python3"
  },
  "language_info": {
   "codemirror_mode": {
    "name": "ipython",
    "version": 3
   },
   "file_extension": ".py",
   "mimetype": "text/x-python",
   "name": "python",
   "nbconvert_exporter": "python",
   "pygments_lexer": "ipython3",
   "version": "3.12.3"
  }
 },
 "nbformat": 4,
 "nbformat_minor": 2
}
