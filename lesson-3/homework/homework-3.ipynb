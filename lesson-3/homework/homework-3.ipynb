{
 "cells": [
  {
   "cell_type": "code",
   "execution_count": null,
   "metadata": {},
   "outputs": [
    {
     "name": "stdout",
     "output_type": "stream",
     "text": [
      "banana\n"
     ]
    }
   ],
   "source": [
    "#exercise_1\n",
    "fruits = ['apple','orange','banana','pomegranate','date']\n",
    "print(fruits[2])"
   ]
  },
  {
   "cell_type": "code",
   "execution_count": null,
   "metadata": {},
   "outputs": [
    {
     "name": "stdout",
     "output_type": "stream",
     "text": [
      "[1, 2, 3, 4, 5, 6, 7, 8, 9, 0]\n"
     ]
    }
   ],
   "source": [
    "#exercise_2\n",
    "a = [1,2,3,4,5]\n",
    "b = [6,7,8,9,0]\n",
    "c = a + b\n",
    "print(c)"
   ]
  },
  {
   "cell_type": "code",
   "execution_count": 21,
   "metadata": {},
   "outputs": [
    {
     "name": "stdout",
     "output_type": "stream",
     "text": [
      "[-10, 40, 90]\n"
     ]
    }
   ],
   "source": [
    "#exercise_3\n",
    "list = [-10,0,10,20,30,40,50,60,70,80,90]\n",
    "new_list = [list[0],list[len(list)//2],list[len(list) - 1]]\n",
    "print(new_list)"
   ]
  },
  {
   "cell_type": "code",
   "execution_count": 3,
   "metadata": {},
   "outputs": [
    {
     "name": "stdout",
     "output_type": "stream",
     "text": [
      "['The Adventures of Tintin', 'Jumanji (1995)', '1000 Words', '80 Days Around the World', 'Three Idiots']\n",
      "('The Adventures of Tintin', 'Jumanji (1995)', '1000 Words', '80 Days Around the World', 'Three Idiots')\n"
     ]
    }
   ],
   "source": [
    "#exercise_4\n",
    "movies_list = ['The Adventures of Tintin','Jumanji (1995)', '1000 Words','80 Days Around the World','Three Idiots']\n",
    "movies_tuple = tuple(movies_list)\n",
    "print(movies_list)\n",
    "print(movies_tuple)"
   ]
  },
  {
   "cell_type": "code",
   "execution_count": null,
   "metadata": {},
   "outputs": [
    {
     "data": {
      "text/plain": [
       "1"
      ]
     },
     "execution_count": 11,
     "metadata": {},
     "output_type": "execute_result"
    }
   ],
   "source": [
    "#exercise_5\n",
    "cities = ['Tashkent', 'Astana', 'Bishkek', 'Dushanbe', 'Ashgabat', 'Baku', 'Paris', 'Moscow', 'London', 'Cairo']\n",
    "cities.count('Paris')"
   ]
  },
  {
   "cell_type": "code",
   "execution_count": 12,
   "metadata": {},
   "outputs": [
    {
     "name": "stdout",
     "output_type": "stream",
     "text": [
      "[100, 200, 300, 400, 500, 600, 700, 800, 900]\n",
      "[100, 200, 300, 400, 500, 600, 700, 800, 900]\n"
     ]
    }
   ],
   "source": [
    "#exercise_6\n",
    "list1 = [100,200,300,400,500,600,700,800,900]\n",
    "list2 = list1\n",
    "print(list1)\n",
    "print(list2)"
   ]
  },
  {
   "cell_type": "code",
   "execution_count": 7,
   "metadata": {},
   "outputs": [
    {
     "name": "stdout",
     "output_type": "stream",
     "text": [
      "['o', 'c', 'e', 'g', 'i', 'k', 'm', 'a']\n"
     ]
    }
   ],
   "source": [
    "#exercise_7\n",
    "sample_list = ['a','c','e','g','i','k','m','o']\n",
    "first_item = sample_list[0]\n",
    "sample_list.reverse()\n",
    "last_item = sample_list[0]\n",
    "sample_list.reverse()\n",
    "sample_list[0] = last_item\n",
    "sample_list[len(sample_list) - 1] = first_item\n",
    "print(sample_list)"
   ]
  },
  {
   "cell_type": "code",
   "execution_count": 12,
   "metadata": {},
   "outputs": [
    {
     "name": "stdout",
     "output_type": "stream",
     "text": [
      "(3, 4, 5, 6, 7)\n"
     ]
    }
   ],
   "source": [
    "#exercise_8\n",
    "sample_tuple = (1,2,3,4,5,6,7,8,9,10)\n",
    "sliced_tuple = sample_tuple[2:7]\n",
    "print(sliced_tuple)"
   ]
  }
 ],
 "metadata": {
  "kernelspec": {
   "display_name": "Python 3",
   "language": "python",
   "name": "python3"
  },
  "language_info": {
   "codemirror_mode": {
    "name": "ipython",
    "version": 3
   },
   "file_extension": ".py",
   "mimetype": "text/x-python",
   "name": "python",
   "nbconvert_exporter": "python",
   "pygments_lexer": "ipython3",
   "version": "3.12.3"
  }
 },
 "nbformat": 4,
 "nbformat_minor": 2
}
