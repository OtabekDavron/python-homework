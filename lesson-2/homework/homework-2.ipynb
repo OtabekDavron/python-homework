{
 "cells": [
  {
   "cell_type": "code",
   "execution_count": 1,
   "metadata": {},
   "outputs": [
    {
     "name": "stdout",
     "output_type": "stream",
     "text": [
      "Otabek, you are turning 22 this year!\n"
     ]
    }
   ],
   "source": [
    "#exercise_1\n",
    "name = input('What is your name?')\n",
    "current_year = int(input('What is the current year?'))\n",
    "year_of_birth = int(input('Which year were you born in?'))\n",
    "age = current_year - year_of_birth\n",
    "print(f'{name}, you are turning {age} this year!')"
   ]
  },
  {
   "cell_type": "code",
   "execution_count": 3,
   "metadata": {},
   "outputs": [
    {
     "name": "stdout",
     "output_type": "stream",
     "text": [
      "Lacetti\n",
      "Malibu\n"
     ]
    }
   ],
   "source": [
    "#exercise_2\n",
    "txt = 'LMaacleitbtui'\n",
    "print(txt[::2])\n",
    "print(txt[1::2])"
   ]
  },
  {
   "cell_type": "code",
   "execution_count": 5,
   "metadata": {},
   "outputs": [
    {
     "name": "stdout",
     "output_type": "stream",
     "text": [
      "Matiz\n",
      "Damas\n"
     ]
    }
   ],
   "source": [
    "#exercise_3\n",
    "txt = 'MsaatmiazD'\n",
    "print(txt[::2])\n",
    "print(txt[::-2])"
   ]
  },
  {
   "cell_type": "code",
   "execution_count": 10,
   "metadata": {},
   "outputs": [
    {
     "name": "stdout",
     "output_type": "stream",
     "text": [
      "London\n"
     ]
    }
   ],
   "source": [
    "#exercise_4\n",
    "txt = \"I'am John. I am from London\"\n",
    "print(txt[txt.index('from')+5::])"
   ]
  },
  {
   "cell_type": "code",
   "execution_count": 11,
   "metadata": {},
   "outputs": [
    {
     "name": "stdout",
     "output_type": "stream",
     "text": [
      "emocleW\n"
     ]
    }
   ],
   "source": [
    "#exercise_5\n",
    "string = input('Insert your string: ')\n",
    "reversed_string = string[::-1]\n",
    "print(reversed_string)"
   ]
  },
  {
   "cell_type": "code",
   "execution_count": 14,
   "metadata": {},
   "outputs": [
    {
     "name": "stdout",
     "output_type": "stream",
     "text": [
      "Total number of vowels in input string is 1\n"
     ]
    }
   ],
   "source": [
    "#exercise_6\n",
    "txt = input('Type a string: ')\n",
    "vowels = {'a','e','i','o','u'}\n",
    "vowels_count = 0\n",
    "for i in txt:\n",
    "    if i in vowels:\n",
    "        vowels_count += 1\n",
    "print(f'Total number of vowels in input string is {vowels_count}')"
   ]
  },
  {
   "cell_type": "code",
   "execution_count": null,
   "metadata": {},
   "outputs": [
    {
     "name": "stdout",
     "output_type": "stream",
     "text": [
      "3333\n"
     ]
    }
   ],
   "source": [
    "#exercise_7\n",
    "a = input('Insert your numbers separated by spaces: ').split()\n",
    "b = []\n",
    "for i in range(0,len(a)):\n",
    "    b.append(int(a[i]))\n",
    "print(max(b))"
   ]
  },
  {
   "cell_type": "code",
   "execution_count": 26,
   "metadata": {},
   "outputs": [
    {
     "name": "stdout",
     "output_type": "stream",
     "text": [
      "[karak] is a palindrome!\n"
     ]
    }
   ],
   "source": [
    "#exercise_8\n",
    "input_string = input('Type your string to check whether it is a palindrome:')\n",
    "string_reversed = input_string[::-1]\n",
    "if input_string == string_reversed:\n",
    "    print(f'[{input_string}] is a palindrome!')\n",
    "else:\n",
    "    print(f'[{input_string}] is NOT a palindrome.')"
   ]
  },
  {
   "cell_type": "code",
   "execution_count": null,
   "metadata": {},
   "outputs": [],
   "source": [
    "#exercise_9"
   ]
  }
 ],
 "metadata": {
  "kernelspec": {
   "display_name": "Python 3",
   "language": "python",
   "name": "python3"
  },
  "language_info": {
   "codemirror_mode": {
    "name": "ipython",
    "version": 3
   },
   "file_extension": ".py",
   "mimetype": "text/x-python",
   "name": "python",
   "nbconvert_exporter": "python",
   "pygments_lexer": "ipython3",
   "version": "3.12.3"
  }
 },
 "nbformat": 4,
 "nbformat_minor": 2
}
