{
 "cells": [
  {
   "cell_type": "code",
   "execution_count": null,
   "metadata": {},
   "outputs": [
    {
     "name": "stdout",
     "output_type": "stream",
     "text": [
      "A square with a side of 2.33 cm has its perimeter of 9.32 cm and area of 5.43 cm2\n"
     ]
    }
   ],
   "source": [
    "#exercise_1\n",
    "a = float(input('What is the length of the side of your square in cm?'))\n",
    "perimeter = 4*a\n",
    "area = round(a*a,2)\n",
    "print(f'A square with a side of {a} cm has its perimeter of {perimeter} cm and area of {area} cm2')"
   ]
  },
  {
   "cell_type": "code",
   "execution_count": null,
   "metadata": {},
   "outputs": [
    {
     "name": "stdout",
     "output_type": "stream",
     "text": [
      "Circumference of a circle with the diamter of 6.0 cm is 18.85 cm\n"
     ]
    }
   ],
   "source": [
    "#exercise_2\n",
    "import math\n",
    "diameter = float(input('Insert the length of the diameter of your circle in cm: '))\n",
    "circumference = round(math.pi * diameter, 3)\n",
    "print(f'Circumference of a circle with the diameter of {diameter} cm is {circumference} cm')"
   ]
  },
  {
   "cell_type": "code",
   "execution_count": 10,
   "metadata": {},
   "outputs": [
    {
     "name": "stdout",
     "output_type": "stream",
     "text": [
      "The mean value of 1.0 and 10000.1 equals to 5000.05\n"
     ]
    }
   ],
   "source": [
    "#exercise_3\n",
    "a = float(input('Insert the first number: '))\n",
    "b = float(input('Insert the second number: '))\n",
    "mean_value = (a * b) / 2\n",
    "print(f'The mean value of {a} and {b} equals to {mean_value}')"
   ]
  },
  {
   "cell_type": "code",
   "execution_count": 17,
   "metadata": {},
   "outputs": [
    {
     "name": "stdout",
     "output_type": "stream",
     "text": [
      "\n",
      "        Given 22.0 and 23.0: \n",
      "        - their sum is equal to 45.0,\n",
      "        - their product is equal to 506.0,\n",
      "        - the square of 22.0 equals to 484.0,\n",
      "        - the square of 23.0 equals to 529.0.\n",
      "      \n"
     ]
    }
   ],
   "source": [
    "#exercise_4(\n",
    "a = float(input('Please insert your first number: '))\n",
    "b = float(input('Please insert your second number: '))\n",
    "sum = round(a + b, 2)\n",
    "product = round(a * b, 2) \n",
    "a_sqr = round(a * a, 2)\n",
    "b_sqr = round(b * b, 2)\n",
    "print(f'''\n",
    "        Given {a} and {b}: \n",
    "        - their sum is equal to {sum},\n",
    "        - their product is equal to {product},\n",
    "        - the square of {a} equals to {a_sqr},\n",
    "        - the square of {b} equals to {b_sqr}.\n",
    "      ''')"
   ]
  }
 ],
 "metadata": {
  "kernelspec": {
   "display_name": "Python 3",
   "language": "python",
   "name": "python3"
  },
  "language_info": {
   "codemirror_mode": {
    "name": "ipython",
    "version": 3
   },
   "file_extension": ".py",
   "mimetype": "text/x-python",
   "name": "python",
   "nbconvert_exporter": "python",
   "pygments_lexer": "ipython3",
   "version": "3.12.3"
  }
 },
 "nbformat": 4,
 "nbformat_minor": 2
}
