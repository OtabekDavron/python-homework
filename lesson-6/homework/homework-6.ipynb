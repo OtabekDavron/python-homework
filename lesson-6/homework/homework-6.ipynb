{
 "cells": [
  {
   "cell_type": "code",
   "execution_count": null,
   "metadata": {},
   "outputs": [],
   "source": [
    "#loop_based_exercises"
   ]
  },
  {
   "cell_type": "code",
   "execution_count": null,
   "metadata": {},
   "outputs": [
    {
     "name": "stdout",
     "output_type": "stream",
     "text": [
      "1\n",
      "2\n",
      "3\n",
      "4\n",
      "5\n",
      "6\n",
      "7\n",
      "8\n",
      "9\n",
      "10\n"
     ]
    }
   ],
   "source": [
    "#execise_1\n",
    "n = 1\n",
    "while n < 11:\n",
    "    print(n)\n",
    "    n += 1"
   ]
  },
  {
   "cell_type": "code",
   "execution_count": 9,
   "metadata": {},
   "outputs": [
    {
     "name": "stdout",
     "output_type": "stream",
     "text": [
      "[1]\n",
      "[1, 2]\n",
      "[1, 2, 3]\n",
      "[1, 2, 3, 4]\n",
      "[1, 2, 3, 4, 5]\n"
     ]
    }
   ],
   "source": [
    "#exercise_2\n",
    "sequence = []\n",
    "for i in range(1,6):\n",
    "    sequence.append(i)\n",
    "    print(sequence)"
   ]
  },
  {
   "cell_type": "code",
   "execution_count": 16,
   "metadata": {},
   "outputs": [
    {
     "name": "stdout",
     "output_type": "stream",
     "text": [
      "The sum of all integers between 1 and 33333 is 555561111\n"
     ]
    }
   ],
   "source": [
    "#exercise_3\n",
    "n = int(input('Insert a number'))\n",
    "sum = 0\n",
    "for i in range (1,n+1):\n",
    "    sum += i\n",
    "print(f'The sum of all integers between 1 and {n} is {sum}')"
   ]
  },
  {
   "cell_type": "code",
   "execution_count": 9,
   "metadata": {},
   "outputs": [
    {
     "name": "stdout",
     "output_type": "stream",
     "text": [
      "[29, 31, 37, 41, 43, 47, 49]\n"
     ]
    }
   ],
   "source": [
    "#exercise_11\n",
    "import math\n",
    "primes = []\n",
    "start = int(input('Start point: '))\n",
    "stop = int(input('End point: '))\n",
    "def is_prime(i):\n",
    "    if i % 2 != 0 and i % 3 != 0:\n",
    "        for j in range (5, int(math.sqrt(i))+1,2):\n",
    "            if i % j != 0:\n",
    "                return True\n",
    "            else:\n",
    "                return False\n",
    "        i += 1\n",
    "for i in range(start, stop + 1):\n",
    "    if is_prime(i):\n",
    "        primes.append(i)\n",
    "print(primes)"
   ]
  },
  {
   "cell_type": "code",
   "execution_count": null,
   "metadata": {},
   "outputs": [],
   "source": []
  }
 ],
 "metadata": {
  "kernelspec": {
   "display_name": "Python 3",
   "language": "python",
   "name": "python3"
  },
  "language_info": {
   "codemirror_mode": {
    "name": "ipython",
    "version": 3
   },
   "file_extension": ".py",
   "mimetype": "text/x-python",
   "name": "python",
   "nbconvert_exporter": "python",
   "pygments_lexer": "ipython3",
   "version": "3.12.3"
  }
 },
 "nbformat": 4,
 "nbformat_minor": 2
}
